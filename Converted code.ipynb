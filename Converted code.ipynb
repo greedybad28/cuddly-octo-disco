{
 "cells": [
  {
   "cell_type": "markdown",
   "id": "c34a1526-ad0e-43e9-9f5d-cae6618f39fe",
   "metadata": {},
   "source": [
    "## Switch case!!!\n"
   ]
  },
  {
   "cell_type": "code",
   "execution_count": 1,
   "id": "c3233c2a-8a5a-459f-b762-4dc9f1e921c9",
   "metadata": {},
   "outputs": [
    {
     "name": "stdin",
     "output_type": "stream",
     "text": [
      "Enter a number between 0 to 9 8\n"
     ]
    }
   ],
   "source": []
  },
  {
   "cell_type": "code",
   "execution_count": 9,
   "id": "64c5ec69-61b2-43bc-a2aa-89a16715e626",
   "metadata": {},
   "outputs": [
    {
     "name": "stdin",
     "output_type": "stream",
     "text": [
      "Enter a number between 0 to 9\n",
      " 4\n"
     ]
    },
    {
     "name": "stdout",
     "output_type": "stream",
     "text": [
      "Four\n"
     ]
    }
   ],
   "source": [
    "#input value\n",
    "value=int(input(\"Enter a number between 0 to 9\\n\"))\n",
    "if value==0:\n",
    "    print(\"Zero\")\n",
    "elif value==1:\n",
    "    print(\"One\")\n",
    "elif value==2:\n",
    "    print(\"Two\")\n",
    "elif value==3:\n",
    "    print(\"Three\")\n",
    "elif value==4:\n",
    "    print(\"Four\")\n",
    "elif value==5:\n",
    "    print(\"Five\")\n",
    "elif value==6:\n",
    "    print(\"Six\")\n",
    "elif value==7:\n",
    "    print(\"Seven\")\n",
    "elif value==8:\n",
    "    print(\"Eight\")\n",
    "elif value==9:\n",
    "    print(\"Nine\")\n"
   ]
  },
  {
   "cell_type": "code",
   "execution_count": null,
   "id": "db6e0a3b-3327-4b73-b8b7-480e88ed8f99",
   "metadata": {},
   "outputs": [],
   "source": [
    "\n"
   ]
  }
 ],
 "metadata": {
  "kernelspec": {
   "display_name": "Python 3 (ipykernel)",
   "language": "python",
   "name": "python3"
  },
  "language_info": {
   "codemirror_mode": {
    "name": "ipython",
    "version": 3
   },
   "file_extension": ".py",
   "mimetype": "text/x-python",
   "name": "python",
   "nbconvert_exporter": "python",
   "pygments_lexer": "ipython3",
   "version": "3.8.18"
  }
 },
 "nbformat": 4,
 "nbformat_minor": 5
}
