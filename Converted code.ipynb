{
 "cells": [
  {
   "cell_type": "markdown",
   "id": "c34a1526-ad0e-43e9-9f5d-cae6618f39fe",
   "metadata": {},
   "source": [
    "## Switch case!!!\n"
   ]
  },
  {
   "cell_type": "code",
   "execution_count": 1,
   "id": "c3233c2a-8a5a-459f-b762-4dc9f1e921c9",
   "metadata": {},
   "outputs": [
    {
     "name": "stdin",
     "output_type": "stream",
     "text": [
      "Enter a number between 0 to 9 8\n"
     ]
    }
   ],
   "source": []
  },
  {
   "cell_type": "code",
   "execution_count": 9,
   "id": "64c5ec69-61b2-43bc-a2aa-89a16715e626",
   "metadata": {},
   "outputs": [
    {
     "name": "stdin",
     "output_type": "stream",
     "text": [
      "Enter a number between 0 to 9\n",
      " 4\n"
     ]
    },
    {
     "name": "stdout",
     "output_type": "stream",
     "text": [
      "Four\n"
     ]
    }
   ],
   "source": [
    "#input value\n",
    "# value=int(input(\"Enter a number between 0 to 9\\n\"))\n",
    "# if value==0:\n",
    "#     print(\"Zero\")\n",
    "# elif value==1:\n",
    "#     print(\"One\")\n",
    "# elif value==2:\n",
    "#     print(\"Two\")\n",
    "# elif value==3:\n",
    "#     print(\"Three\")\n",
    "# elif value==4:\n",
    "#     print(\"Four\")\n",
    "# elif value==5:\n",
    "#     print(\"Five\")\n",
    "# elif value==6:\n",
    "#     print(\"Six\")\n",
    "# elif value==7:\n",
    "#     print(\"Seven\")\n",
    "# elif value==8:\n",
    "#     print(\"Eight\")\n",
    "# elif value==9:\n",
    "#     priant(\"Nine\")\n"
   ]
  },
  {
   "cell_type": "markdown",
   "id": "23fa3887-52a8-4499-95b2-fd5ffef14e04",
   "metadata": {},
   "source": [
    "## Sum of square of n numbers "
   ]
  },
  {
   "cell_type": "code",
   "execution_count": null,
   "id": "db6e0a3b-3327-4b73-b8b7-480e88ed8f99",
   "metadata": {},
   "outputs": [],
   "source": [
    "\n",
    "# number = int(input(\"Enter the number : \"))\n",
    "# summ=0\n",
    "# for i in range(number):\n",
    "#     if number>=0:\n",
    "#         summ=summ+i*i\n",
    "# print(\"The sum of square of first\",number,\"digits is equal to\",summ) \n",
    "\n",
    "\n",
    "\n",
    "# Learn something new here\n",
    "#running the above code snippet will give us an answer..but there's a catch..\n",
    "#This loop starts from zero and goes 3 times around...and that will include zero and that will fuck up the answer\n",
    "#to find out that \"fuck up \" just enter 5 as the input and see the wrong answer 30\n",
    "\n",
    "# To fix it let's just give a simplle fix\n",
    "#change the for loop to \"for i in range(1,number+1)\n",
    "#which just does the job for us \n",
    "#ccorected code below!\n",
    "\n",
    "\n",
    "# and u don't need the if statement there too \n",
    "# summ = 0\n",
    "\n",
    "# for i in range(1, number + 1):\n",
    "#     summ = summ + i**2\n",
    "\n",
    "# print(\"The sum of the square of the first\", number, \"digits is equal to\", summ)\n"
   ]
  },
  {
   "cell_type": "markdown",
   "id": "a15e801b-5e21-4319-bf79-58af8100b3a3",
   "metadata": {},
   "source": [
    "## Check integer for Prime"
   ]
  },
  {
   "cell_type": "code",
   "execution_count": 11,
   "id": "f6ce027f-eda3-4644-991b-63b5e8743932",
   "metadata": {},
   "outputs": [
    {
     "name": "stdin",
     "output_type": "stream",
     "text": [
      "Enter the number u wanna check 131\n"
     ]
    },
    {
     "name": "stdout",
     "output_type": "stream",
     "text": [
      "It's a prime number\n"
     ]
    }
   ],
   "source": [
    "# number = int(input(\"Enter the number u wanna check\"))\n",
    "# if number==1:\n",
    "#     print(\"According to some fuckin university....\\nOne is not prime\")\n",
    "# elif number>1:\n",
    "#     if number%2==0:\n",
    "#         print(\"No it's not a prime number\")\n",
    "#     else:\n",
    "#         print(\"It's a prime number\")\n"
   ]
  },
  {
   "cell_type": "markdown",
   "id": "12948fc2-cd0e-448b-b392-5450c2d68fc8",
   "metadata": {},
   "source": [
    "## Checking for palindrome\n"
   ]
  },
  {
   "cell_type": "code",
   "execution_count": 20,
   "id": "abf32233-be02-47bd-9272-b0271a4907e8",
   "metadata": {},
   "outputs": [
    {
     "name": "stdin",
     "output_type": "stream",
     "text": [
      "Enter the number u wanna check 1222\n"
     ]
    },
    {
     "name": "stdout",
     "output_type": "stream",
     "text": [
      "Number is not palindrome\n"
     ]
    }
   ],
   "source": [
    "# #checking for palindrome\n",
    "# number = int(input(\"Enter the number u wanna check\"))\n",
    "# reverse = 0\n",
    "# copy=number\n",
    "# while number>0:\n",
    "#     digit=number%10\n",
    "#     reverse=digit+reverse*10\n",
    "#     number//=10\n",
    "# if copy==reverse:\n",
    "#     print(\"The number is palindrome\")\n",
    "# else:\n",
    "#     print(\"Number is not palindrome\")"
   ]
  },
  {
   "cell_type": "markdown",
   "id": "cb9c1151-10e3-4b7e-b115-d846825f6963",
   "metadata": {},
   "source": [
    "## Just note it\n",
    "if i wanted I could've used:  \n",
    ">number= int(number/10)>  \n",
    "\n",
    "to denote the integer division  \n",
    "but the more pythonic way would be :  \n",
    " >number//=10\n",
    "\n",
    "Which basically does the same thing but yeah...it's a more good version ig  \n",
    "\n",
    "  *Source :Chatgpt*"
   ]
  },
  {
   "cell_type": "code",
   "execution_count": null,
   "id": "bf012312-c35f-4783-a38c-90c97648f6f3",
   "metadata": {},
   "outputs": [],
   "source": []
  },
  {
   "cell_type": "code",
   "execution_count": null,
   "id": "38083f9a-5845-41a2-bbc6-4b0eb7253302",
   "metadata": {},
   "outputs": [],
   "source": []
  }
 ],
 "metadata": {
  "kernelspec": {
   "display_name": "Python 3 (ipykernel)",
   "language": "python",
   "name": "python3"
  },
  "language_info": {
   "codemirror_mode": {
    "name": "ipython",
    "version": 3
   },
   "file_extension": ".py",
   "mimetype": "text/x-python",
   "name": "python",
   "nbconvert_exporter": "python",
   "pygments_lexer": "ipython3",
   "version": "3.11.7"
  }
 },
 "nbformat": 4,
 "nbformat_minor": 5
}
