{
 "cells": [
  {
   "cell_type": "code",
   "execution_count": 1,
   "id": "4aba1151-9a4e-4d63-a559-fbdf127bc241",
   "metadata": {
    "tags": []
   },
   "outputs": [],
   "source": [
    "ages = {\"hoy\" : 13,\"hyhi\" :30,\"ssfd\" : 34,\"khsfd\" :50}"
   ]
  },
  {
   "cell_type": "code",
   "execution_count": 3,
   "id": "ebc40c2d-c5dd-4eb7-b53c-2b3cdadaf0b9",
   "metadata": {
    "tags": []
   },
   "outputs": [],
   "source": [
    "age_in_months ={key: (12*value) for (key,value) in ages.items()}"
   ]
  },
  {
   "cell_type": "code",
   "execution_count": 4,
   "id": "7f00cce8-b66b-494b-a7ee-e50f9b574a25",
   "metadata": {
    "tags": []
   },
   "outputs": [
    {
     "name": "stdout",
     "output_type": "stream",
     "text": [
      "{'hoy': 156, 'hyhi': 360, 'ssfd': 408, 'khsfd': 600}\n"
     ]
    }
   ],
   "source": [
    "print(age_in_months)"
   ]
  },
  {
   "cell_type": "code",
   "execution_count": 10,
   "id": "ff17628a-bca6-4f43-8c77-33802c2e6135",
   "metadata": {
    "tags": []
   },
   "outputs": [
    {
     "name": "stdout",
     "output_type": "stream",
     "text": [
      "<enumerate object at 0x7b21c81ea890>\n"
     ]
    }
   ],
   "source": [
    "chars = ['\\n', ' ', '!', '$', '&', \"'\", ',', '-', '.', '3', ':', ';', '?', 'A', 'B', 'C', 'D', 'E', 'F', 'G', 'H', 'I', 'J', 'K', 'L', 'M', 'N', 'O', 'P', 'Q', 'R', 'S', 'T', 'U', 'V', 'W', 'X', 'Y', 'Z', 'a', 'b', 'c', 'd', 'e', 'f', 'g', 'h', 'i', 'j', 'k', 'l', 'm', 'n', 'o', 'p', 'q', 'r', 's', 't', 'u', 'v', 'w', 'x', 'y', 'z']\n",
    "\n",
    "print(enumerate(chars))"
   ]
  },
  {
   "cell_type": "code",
   "execution_count": 28,
   "id": "2f3aca5f-e9ff-4cd0-af89-14af10bc1697",
   "metadata": {
    "tags": []
   },
   "outputs": [
    {
     "name": "stdout",
     "output_type": "stream",
     "text": [
      "{'\\n': 0, ' ': 1, '!': 2, '$': 3, '&': 4, \"'\": 5, ',': 6, '-': 7, '.': 8, '3': 9, ':': 10, ';': 11, '?': 12, 'A': 13, 'B': 14, 'C': 15, 'D': 16, 'E': 17, 'F': 18, 'G': 19, 'H': 20, 'I': 21, 'J': 22, 'K': 23, 'L': 24, 'M': 25, 'N': 26, 'O': 27, 'P': 28, 'Q': 29, 'R': 30, 'S': 31, 'T': 32, 'U': 33, 'V': 34, 'W': 35, 'X': 36, 'Y': 37, 'Z': 38, 'a': 39, 'b': 40, 'c': 41, 'd': 42, 'e': 43, 'f': 44, 'g': 45, 'h': 46, 'i': 47, 'j': 48, 'k': 49, 'l': 50, 'm': 51, 'n': 52, 'o': 53, 'p': 54, 'q': 55, 'r': 56, 's': 57, 't': 58, 'u': 59, 'v': 60, 'w': 61, 'x': 62, 'y': 63, 'z': 64}\n"
     ]
    }
   ],
   "source": [
    "stoi = {key:value for value,key in enumerate(chars)}\n",
    "print(stoi)\n",
    "reverse_of_stoi = {i:ch for i,ch in enumerate(chars)}\n",
    "# print(reverse_of_stoi)"
   ]
  },
  {
   "cell_type": "code",
   "execution_count": 30,
   "id": "e7b45df9-2efe-4819-811c-2bc9644cdde8",
   "metadata": {
    "tags": []
   },
   "outputs": [
    {
     "name": "stdout",
     "output_type": "stream",
     "text": [
      "[46, 47, 47, 1, 58, 46, 43, 56, 43]\n",
      "hii there\n"
     ]
    }
   ],
   "source": [
    "encode = lambda s: [stoi[c] for c in s] \n",
    "decode = lambda l: ''.join([reverse_of_stoi[i] for i in l])\n",
    "print(encode(\"hii there\"))\n",
    "print(decode(encode(\"hii there\")))"
   ]
  },
  {
   "cell_type": "code",
   "execution_count": null,
   "id": "57df53b2-4d5f-4dbf-9405-cc6ab197ebb6",
   "metadata": {},
   "outputs": [],
   "source": []
  }
 ],
 "metadata": {
  "kernelspec": {
   "display_name": "Python 3 (ipykernel)",
   "language": "python",
   "name": "python3"
  },
  "language_info": {
   "codemirror_mode": {
    "name": "ipython",
    "version": 3
   },
   "file_extension": ".py",
   "mimetype": "text/x-python",
   "name": "python",
   "nbconvert_exporter": "python",
   "pygments_lexer": "ipython3",
   "version": "3.11.5"
  }
 },
 "nbformat": 4,
 "nbformat_minor": 5
}
